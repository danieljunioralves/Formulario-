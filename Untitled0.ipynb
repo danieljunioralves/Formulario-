{
  "nbformat": 4,
  "nbformat_minor": 0,
  "metadata": {
    "colab": {
      "provenance": [],
      "authorship_tag": "ABX9TyMtq40ZC0G56HfSzgpidX0V",
      "include_colab_link": true
    },
    "kernelspec": {
      "name": "python3",
      "display_name": "Python 3"
    },
    "language_info": {
      "name": "python"
    }
  },
  "cells": [
    {
      "cell_type": "markdown",
      "metadata": {
        "id": "view-in-github",
        "colab_type": "text"
      },
      "source": [
        "<a href=\"https://colab.research.google.com/github/danieljunioralves/Formulario-/blob/main/Untitled0.ipynb\" target=\"_parent\"><img src=\"https://colab.research.google.com/assets/colab-badge.svg\" alt=\"Open In Colab\"/></a>"
      ]
    },
    {
      "cell_type": "markdown",
      "source": [],
      "metadata": {
        "id": "FubaJ7-QaWQb"
      }
    },
    {
      "cell_type": "code",
      "source": [
        "propaganda_online = [\n",
        " {'tempo_gasto_site': 68.95, 'idade': 35, 'renda_area': 61833.90,\n",
        " 'tempo_gasto_internet': 256.09, 'cidade': 'Wrightburgh',\n",
        " 'pais': 'Tunisia', 'clicou_no_ad': 0\n",
        " },\n",
        " {'tempo_gasto_site': 80.23, 'idade': 31, 'renda_area': 68441.85,\n",
        " 'tempo_gasto_internet': 193.77, 'cidade': 'West Jodi',\n",
        " 'pais': 'Nauru', 'clicou_no_ad': 0\n",
        " },\n",
        " {'tempo_gasto_site': 69.47, 'idade': 26, 'renda_area': 59785.94,\n",
        " 'tempo_gasto_internet': 236.50, 'cidade': 'Davidton',\n",
        " 'pais': 'San Marino', 'clicou_no_ad': 0\n",
        " },\n",
        " {'tempo_gasto_site': 68.37, 'idade': 35, 'renda_area': 73889.99,\n",
        " 'tempo_gasto_internet': 225.58, 'cidade': 'South Manuel',\n",
        " 'pais': 'Iceland', 'clicou_no_ad': 0\n",
        " },\n",
        " {'tempo_gasto_site': 88.91, 'idade': 33, 'renda_area': 53852.85,\n",
        " 'tempo_gasto_internet': 208.36, 'cidade': 'Brandonstad',\n",
        " 'pais': 'Myanmar', 'clicou_no_ad': 0\n",
        " },\n",
        " {'tempo_gasto_site': None, 'idade': 48, 'renda_area': 24593.33,\n",
        " 'tempo_gasto_internet': 131.76, 'cidade': 'Port Jefferybury',\n",
        " 'pais': 'Australia', 'clicou_no_ad': 1\n",
        " },\n",
        " {'tempo_gasto_site': 74.53, 'idade': 30, 'renda_area': 68862.00,\n",
        " 'tempo_gasto_internet': 221.51, 'cidade': 'West Colin',\n",
        " 'pais': 'Grenada'},\n",
        " {'tempo_gasto_site': 69.88, 'idade': 20, 'renda_area': 55642.32,\n",
        " 'tempo_gasto_internet': 183.82, 'cidade': 'Ramirezton',\n",
        " 'pais': 'Ghana', 'clicou_no_ad': 0\n",
        " }\n",
        "]\n",
        "for dado_de_usuario in propaganda_online:\n",
        " print(dado_de_usuario)"
      ],
      "metadata": {
        "colab": {
          "base_uri": "https://localhost:8080/"
        },
        "id": "gQiml1a1aXZV",
        "outputId": "a605d8e0-3d38-4d7a-e449-397464be9246"
      },
      "execution_count": 54,
      "outputs": [
        {
          "output_type": "stream",
          "name": "stdout",
          "text": [
            "{'tempo_gasto_site': 68.95, 'idade': 35, 'renda_area': 61833.9, 'tempo_gasto_internet': 256.09, 'cidade': 'Wrightburgh', 'pais': 'Tunisia', 'clicou_no_ad': 0}\n",
            "{'tempo_gasto_site': 80.23, 'idade': 31, 'renda_area': 68441.85, 'tempo_gasto_internet': 193.77, 'cidade': 'West Jodi', 'pais': 'Nauru', 'clicou_no_ad': 0}\n",
            "{'tempo_gasto_site': 69.47, 'idade': 26, 'renda_area': 59785.94, 'tempo_gasto_internet': 236.5, 'cidade': 'Davidton', 'pais': 'San Marino', 'clicou_no_ad': 0}\n",
            "{'tempo_gasto_site': 68.37, 'idade': 35, 'renda_area': 73889.99, 'tempo_gasto_internet': 225.58, 'cidade': 'South Manuel', 'pais': 'Iceland', 'clicou_no_ad': 0}\n",
            "{'tempo_gasto_site': 88.91, 'idade': 33, 'renda_area': 53852.85, 'tempo_gasto_internet': 208.36, 'cidade': 'Brandonstad', 'pais': 'Myanmar', 'clicou_no_ad': 0}\n",
            "{'tempo_gasto_site': None, 'idade': 48, 'renda_area': 24593.33, 'tempo_gasto_internet': 131.76, 'cidade': 'Port Jefferybury', 'pais': 'Australia', 'clicou_no_ad': 1}\n",
            "{'tempo_gasto_site': 74.53, 'idade': 30, 'renda_area': 68862.0, 'tempo_gasto_internet': 221.51, 'cidade': 'West Colin', 'pais': 'Grenada'}\n",
            "{'tempo_gasto_site': 69.88, 'idade': 20, 'renda_area': 55642.32, 'tempo_gasto_internet': 183.82, 'cidade': 'Ramirezton', 'pais': 'Ghana', 'clicou_no_ad': 0}\n"
          ]
        }
      ]
    },
    {
      "cell_type": "markdown",
      "source": [],
      "metadata": {
        "id": "6iV6bLtfciht"
      }
    },
    {
      "cell_type": "code",
      "source": [
        "paises = []\n",
        "for dado_de_usuario in propaganda_online:\n",
        "\n",
        "    if dado_de_usuario ['idade']>30:\n",
        "       paises.append(dado_de_usuario['pais'])\n",
        "       print(paises)\n"
      ],
      "metadata": {
        "id": "TUlYtP66cjY2",
        "colab": {
          "base_uri": "https://localhost:8080/"
        },
        "outputId": "aa8463a6-0b1a-4495-c50d-368ff5eee1e6"
      },
      "execution_count": 60,
      "outputs": [
        {
          "output_type": "stream",
          "name": "stdout",
          "text": [
            "['Tunisia']\n",
            "['Tunisia', 'Nauru']\n",
            "['Tunisia', 'Nauru', 'Iceland']\n",
            "['Tunisia', 'Nauru', 'Iceland', 'Myanmar']\n",
            "['Tunisia', 'Nauru', 'Iceland', 'Myanmar', 'Australia']\n"
          ]
        }
      ]
    },
    {
      "cell_type": "markdown",
      "source": [],
      "metadata": {
        "id": "xjAIETSnew3i"
      }
    },
    {
      "cell_type": "code",
      "source": [
        "leads = [\n",
        "{'tempo_gasto_site': 68.95, 'idade': 35, 'renda_area': 61833.90,\n",
        " 'tempo_gasto_internet': 256.09, 'cidade': 'Wrightburgh',\n",
        " 'pais': 'Tunisia', 'clicou_no_ad': 0\n",
        " },\n",
        " {'tempo_gasto_site': 80.23, 'idade': 31, 'renda_area': 68441.85,\n",
        " 'tempo_gasto_internet': 193.77, 'cidade': 'West Jodi',\n",
        " 'pais': 'Nauru', 'clicou_no_ad': 0\n",
        " },\n",
        " {'tempo_gasto_site': 69.47, 'idade': 26, 'renda_area': 59785.94,\n",
        " 'tempo_gasto_internet': 236.50, 'cidade': 'Davidton',\n",
        " 'pais': 'San Marino', 'clicou_no_ad': 0\n",
        " },\n",
        " {'tempo_gasto_site': 68.37, 'idade': 35, 'renda_area': 73889.99,\n",
        " 'tempo_gasto_internet': 225.58, 'cidade': 'South Manuel',\n",
        " 'pais': 'Iceland', 'clicou_no_ad': 0\n",
        " },\n",
        " {'tempo_gasto_site': 88.91, 'idade': 33, 'renda_area': 53852.85,\n",
        " 'tempo_gasto_internet': 208.36, 'cidade': 'Brandonstad',\n",
        " 'pais': 'Myanmar', 'clicou_no_ad': 0\n",
        " },\n",
        " {'tempo_gasto_site': None, 'idade': 48, 'renda_area': 24593.33,\n",
        " 'tempo_gasto_internet': 131.76, 'cidade': 'Port Jefferybury',\n",
        " 'pais': 'Australia', 'clicou_no_ad': 1\n",
        " },\n",
        " {'tempo_gasto_site': 74.53, 'idade': 30, 'renda_area': 68862.00,\n",
        " 'tempo_gasto_internet': 221.51, 'cidade': 'West Colin',\n",
        " 'pais': 'Grenada'},\n",
        " {'tempo_gasto_site': 69.88, 'idade': 20, 'renda_area': 55642.32,\n",
        " 'tempo_gasto_internet': 183.82, 'cidade': 'Ramirezton',\n",
        " 'pais': 'Ghana', 'clicou_no_ad': 0\n",
        " }\n",
        "]\n",
        "for dado_de_usuario in propaganda_online:\n",
        " ...\n",
        "print(leads)"
      ],
      "metadata": {
        "colab": {
          "base_uri": "https://localhost:8080/"
        },
        "id": "W2vGyrmlexW2",
        "outputId": "bff8fa59-892b-4906-ef67-e9573212af9c"
      },
      "execution_count": null,
      "outputs": [
        {
          "output_type": "stream",
          "name": "stdout",
          "text": [
            "[{'tempo_gasto_site': 68.95, 'idade': 35, 'renda_area': 61833.9, 'tempo_gasto_internet': 256.09, 'cidade': 'Wrightburgh', 'pais': 'Tunisia', 'clicou_no_ad': 0}, {'tempo_gasto_site': 80.23, 'idade': 31, 'renda_area': 68441.85, 'tempo_gasto_internet': 193.77, 'cidade': 'West Jodi', 'pais': 'Nauru', 'clicou_no_ad': 0}, {'tempo_gasto_site': 69.47, 'idade': 26, 'renda_area': 59785.94, 'tempo_gasto_internet': 236.5, 'cidade': 'Davidton', 'pais': 'San Marino', 'clicou_no_ad': 0}, {'tempo_gasto_site': 68.37, 'idade': 35, 'renda_area': 73889.99, 'tempo_gasto_internet': 225.58, 'cidade': 'South Manuel', 'pais': 'Iceland', 'clicou_no_ad': 0}, {'tempo_gasto_site': 88.91, 'idade': 33, 'renda_area': 53852.85, 'tempo_gasto_internet': 208.36, 'cidade': 'Brandonstad', 'pais': 'Myanmar', 'clicou_no_ad': 0}, {'tempo_gasto_site': None, 'idade': 48, 'renda_area': 24593.33, 'tempo_gasto_internet': 131.76, 'cidade': 'Port Jefferybury', 'pais': 'Australia', 'clicou_no_ad': 1}, {'tempo_gasto_site': 74.53, 'idade': 30, 'renda_area': 68862.0, 'tempo_gasto_internet': 221.51, 'cidade': 'West Colin', 'pais': 'Grenada'}, {'tempo_gasto_site': 69.88, 'idade': 20, 'renda_area': 55642.32, 'tempo_gasto_internet': 183.82, 'cidade': 'Ramirezton', 'pais': 'Ghana', 'clicou_no_ad': 0}]\n"
          ]
        }
      ]
    },
    {
      "cell_type": "markdown",
      "source": [],
      "metadata": {
        "id": "MwHH8HnOf_jI"
      }
    },
    {
      "cell_type": "code",
      "source": [
        "cidades = [\n",
        "{'tempo_gasto_site': 68.95, 'idade': 35, 'renda_area': 61833.90,\n",
        " 'tempo_gasto_internet': 256.09, 'cidade': 'Wrightburgh',\n",
        " 'pais': 'Tunisia', 'clicou_no_ad': 0\n",
        " },\n",
        " {'tempo_gasto_site': 80.23, 'idade': 31, 'renda_area': 68441.85,\n",
        " 'tempo_gasto_internet': 193.77, 'cidade': 'West Jodi',\n",
        " 'pais': 'Nauru', 'clicou_no_ad': 0\n",
        " },\n",
        " {'tempo_gasto_site': 69.47, 'idade': 26, 'renda_area': 59785.94,\n",
        " 'tempo_gasto_internet': 236.50, 'cidade': 'Davidton',\n",
        " 'pais': 'San Marino', 'clicou_no_ad': 0\n",
        " },\n",
        " {'tempo_gasto_site': 68.37, 'idade': 35, 'renda_area': 73889.99,\n",
        " 'tempo_gasto_internet': 225.58, 'cidade': 'South Manuel',\n",
        " 'pais': 'Iceland', 'clicou_no_ad': 0\n",
        " },\n",
        " {'tempo_gasto_site': 88.91, 'idade': 33, 'renda_area': 53852.85,\n",
        " 'tempo_gasto_internet': 208.36, 'cidade': 'Brandonstad',\n",
        " 'pais': 'Myanmar', 'clicou_no_ad': 0\n",
        " },\n",
        " {'tempo_gasto_site': None, 'idade': 48, 'renda_area': 24593.33,\n",
        " 'tempo_gasto_internet': 131.76, 'cidade': 'Port Jefferybury',\n",
        " 'pais': 'Australia', 'clicou_no_ad': 1\n",
        " },\n",
        " {'tempo_gasto_site': 74.53, 'idade': 30, 'renda_area': 68862.00,\n",
        " 'tempo_gasto_internet': 221.51, 'cidade': 'West Colin',\n",
        " 'pais': 'Grenada'},\n",
        " {'tempo_gasto_site': 69.88, 'idade': 20, 'renda_area': 55642.32,\n",
        " 'tempo_gasto_internet': 183.82, 'cidade': 'Ramirezton',\n",
        " 'pais': 'Ghana', 'clicou_no_ad': 0\n",
        " }\n",
        "]\n",
        "for dado_de_usuario in propaganda_online:\n",
        " ...\n",
        "print(cidades)"
      ],
      "metadata": {
        "colab": {
          "base_uri": "https://localhost:8080/"
        },
        "id": "YnHlOaT8gAOp",
        "outputId": "3fdce0dc-4d57-497d-e2e3-a7e6ee559ddd"
      },
      "execution_count": null,
      "outputs": [
        {
          "output_type": "stream",
          "name": "stdout",
          "text": [
            "[{'tempo_gasto_site': 68.95, 'idade': 35, 'renda_area': 61833.9, 'tempo_gasto_internet': 256.09, 'cidade': 'Wrightburgh', 'pais': 'Tunisia', 'clicou_no_ad': 0}, {'tempo_gasto_site': 80.23, 'idade': 31, 'renda_area': 68441.85, 'tempo_gasto_internet': 193.77, 'cidade': 'West Jodi', 'pais': 'Nauru', 'clicou_no_ad': 0}, {'tempo_gasto_site': 69.47, 'idade': 26, 'renda_area': 59785.94, 'tempo_gasto_internet': 236.5, 'cidade': 'Davidton', 'pais': 'San Marino', 'clicou_no_ad': 0}, {'tempo_gasto_site': 68.37, 'idade': 35, 'renda_area': 73889.99, 'tempo_gasto_internet': 225.58, 'cidade': 'South Manuel', 'pais': 'Iceland', 'clicou_no_ad': 0}, {'tempo_gasto_site': 88.91, 'idade': 33, 'renda_area': 53852.85, 'tempo_gasto_internet': 208.36, 'cidade': 'Brandonstad', 'pais': 'Myanmar', 'clicou_no_ad': 0}, {'tempo_gasto_site': None, 'idade': 48, 'renda_area': 24593.33, 'tempo_gasto_internet': 131.76, 'cidade': 'Port Jefferybury', 'pais': 'Australia', 'clicou_no_ad': 1}, {'tempo_gasto_site': 74.53, 'idade': 30, 'renda_area': 68862.0, 'tempo_gasto_internet': 221.51, 'cidade': 'West Colin', 'pais': 'Grenada'}, {'tempo_gasto_site': 69.88, 'idade': 20, 'renda_area': 55642.32, 'tempo_gasto_internet': 183.82, 'cidade': 'Ramirezton', 'pais': 'Ghana', 'clicou_no_ad': 0}]\n"
          ]
        }
      ]
    }
  ]
}