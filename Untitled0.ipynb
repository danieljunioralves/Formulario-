{
  "nbformat": 4,
  "nbformat_minor": 0,
  "metadata": {
    "colab": {
      "provenance": [],
      "authorship_tag": "ABX9TyM6uI0C+iz4W1aN4cRceXnd",
      "include_colab_link": true
    },
    "kernelspec": {
      "name": "python3",
      "display_name": "Python 3"
    },
    "language_info": {
      "name": "python"
    }
  },
  "cells": [
    {
      "cell_type": "markdown",
      "metadata": {
        "id": "view-in-github",
        "colab_type": "text"
      },
      "source": [
        "<a href=\"https://colab.research.google.com/github/danieljunioralves/Formulario-/blob/main/Untitled0.ipynb\" target=\"_parent\"><img src=\"https://colab.research.google.com/assets/colab-badge.svg\" alt=\"Open In Colab\"/></a>"
      ]
    },
    {
      "cell_type": "markdown",
      "source": [
        "1.lista"
      ],
      "metadata": {
        "id": "4rKeJmz_OqQX"
      }
    },
    {
      "cell_type": "code",
      "source": [],
      "metadata": {
        "id": "46Cw5XVwhUT1"
      },
      "execution_count": null,
      "outputs": []
    },
    {
      "cell_type": "code",
      "source": [
        "print(pessoas)\n",
        "daniel "
      ],
      "metadata": {
        "id": "Pzfoc1VrhGCN"
      },
      "execution_count": null,
      "outputs": []
    },
    {
      "cell_type": "code",
      "source": [
        "filmes = ['O Menu ', 'Avatar', 'Babilônia','M3gan ', 'Gato de Botas 2', 'The Whale','Os Fabelmans','Alerta Máximo ','Tár','Trem-Bala ']\n",
        "\n",
        "filmes.pop(1)\n",
        "\n",
        "print(filmes)\n"
      ],
      "metadata": {
        "colab": {
          "base_uri": "https://localhost:8080/"
        },
        "id": "wKhFtMmkhWi6",
        "outputId": "72a1c27f-e144-47ae-d0d0-6ceec66a43ac"
      },
      "execution_count": 23,
      "outputs": [
        {
          "output_type": "stream",
          "name": "stdout",
          "text": [
            "['O Menu ', 'Babilônia', 'M3gan ', 'Gato de Botas 2', 'The Whale', 'Os Fabelmans', 'Alerta Máximo ', 'Tár', 'Trem-Bala ']\n"
          ]
        }
      ]
    },
    {
      "cell_type": "markdown",
      "source": [],
      "metadata": {
        "id": "BbNvIcdUjR7z"
      }
    },
    {
      "cell_type": "code",
      "source": [
        "filmes = ['O Menu ', 'Avatar', 'Babilônia','M3gan ', 'Gato de Botas 2', 'The Whale','Os Fabelmans','Alerta Máximo ','Tár','Trem-Bala ']\n",
        "\n",
        "filmes.insert(1, \"Pânico VI\")\n",
        "\n",
        "print(filmes)\n",
        "\n"
      ],
      "metadata": {
        "colab": {
          "base_uri": "https://localhost:8080/"
        },
        "id": "52eUogJdjUqn",
        "outputId": "520138c2-5bf0-4bac-ba33-4dad75603b16"
      },
      "execution_count": 27,
      "outputs": [
        {
          "output_type": "stream",
          "name": "stdout",
          "text": [
            "['O Menu ', 'Pânico VI', 'Avatar', 'Babilônia', 'M3gan ', 'Gato de Botas 2', 'The Whale', 'Os Fabelmans', 'Alerta Máximo ', 'Tár', 'Trem-Bala ']\n"
          ]
        }
      ]
    }
  ]
}