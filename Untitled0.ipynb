{
  "nbformat": 4,
  "nbformat_minor": 0,
  "metadata": {
    "colab": {
      "provenance": [],
      "authorship_tag": "ABX9TyOAPd6+Mgkd8BC6ZkiOykdg",
      "include_colab_link": true
    },
    "kernelspec": {
      "name": "python3",
      "display_name": "Python 3"
    },
    "language_info": {
      "name": "python"
    }
  },
  "cells": [
    {
      "cell_type": "markdown",
      "metadata": {
        "id": "view-in-github",
        "colab_type": "text"
      },
      "source": [
        "<a href=\"https://colab.research.google.com/github/danieljunioralves/Formulario-/blob/main/Untitled0.ipynb\" target=\"_parent\"><img src=\"https://colab.research.google.com/assets/colab-badge.svg\" alt=\"Open In Colab\"/></a>"
      ]
    },
    {
      "cell_type": "markdown",
      "source": [
        "1.lista"
      ],
      "metadata": {
        "id": "4rKeJmz_OqQX"
      }
    },
    {
      "cell_type": "markdown",
      "source": [],
      "metadata": {
        "id": "pUSiouQnlpCF"
      }
    },
    {
      "cell_type": "code",
      "source": [
        "filmes = list(('O Menu ', 'Avatar', 'Babilônia','M3gan ', 'Gato de Botas 2', 'The Whale','Os Fabelmans','Alerta Máximo ','Tár','Trem-Bala '))\n",
        "print(filmes)"
      ],
      "metadata": {
        "id": "46Cw5XVwhUT1",
        "colab": {
          "base_uri": "https://localhost:8080/"
        },
        "outputId": "e69c2d17-e80c-4203-8e5d-46d9b3d0337b"
      },
      "execution_count": 15,
      "outputs": [
        {
          "output_type": "stream",
          "name": "stdout",
          "text": [
            "['O Menu ', 'Avatar', 'Babilônia', 'M3gan ', 'Gato de Botas 2', 'The Whale', 'Os Fabelmans', 'Alerta Máximo ', 'Tár', 'Trem-Bala ']\n"
          ]
        }
      ]
    },
    {
      "cell_type": "markdown",
      "source": [],
      "metadata": {
        "id": "Xx5ODb-DlraZ"
      }
    },
    {
      "cell_type": "code",
      "source": [
        "filmes = ['O Menu ', 'Avatar', 'Babilônia','M3gan ', 'Gato de Botas 2', 'The Whale','Os Fabelmans','Alerta Máximo ','Tár','Trem-Bala ']\n",
        "\n",
        "filmes.pop(1)\n",
        "\n",
        "print(filmes)\n"
      ],
      "metadata": {
        "colab": {
          "base_uri": "https://localhost:8080/"
        },
        "id": "wKhFtMmkhWi6",
        "outputId": "72a1c27f-e144-47ae-d0d0-6ceec66a43ac"
      },
      "execution_count": null,
      "outputs": [
        {
          "output_type": "stream",
          "name": "stdout",
          "text": [
            "['O Menu ', 'Babilônia', 'M3gan ', 'Gato de Botas 2', 'The Whale', 'Os Fabelmans', 'Alerta Máximo ', 'Tár', 'Trem-Bala ']\n"
          ]
        }
      ]
    },
    {
      "cell_type": "markdown",
      "source": [],
      "metadata": {
        "id": "BbNvIcdUjR7z"
      }
    },
    {
      "cell_type": "code",
      "source": [
        "filmes = ['O Menu ', 'Avatar', 'Babilônia','M3gan ', 'Gato de Botas 2', 'The Whale','Os Fabelmans','Alerta Máximo ','Tár','Trem-Bala ']\n",
        "\n",
        "filmes.insert(1, \"Pânico VI\")\n",
        "\n",
        "print(filmes)\n",
        "\n"
      ],
      "metadata": {
        "colab": {
          "base_uri": "https://localhost:8080/"
        },
        "id": "52eUogJdjUqn",
        "outputId": "3fb4abf3-3f05-412a-a033-e8a0f227da88"
      },
      "execution_count": 8,
      "outputs": [
        {
          "output_type": "stream",
          "name": "stdout",
          "text": [
            "['O Menu ', 'Pânico VI', 'Avatar', 'Babilônia', 'M3gan ', 'Gato de Botas 2', 'The Whale', 'Os Fabelmans', 'Alerta Máximo ', 'Tár', 'Trem-Bala ']\n"
          ]
        }
      ]
    },
    {
      "cell_type": "markdown",
      "source": [],
      "metadata": {
        "id": "3K84FiEZhjtD"
      }
    },
    {
      "cell_type": "code",
      "source": [
        "filmes = {'O Menu ', 'Avatar', 'Babilônia','M3gan ', 'Gato de Botas 2', 'The Whale','Os Fabelmans','Alerta Máximo ','Tár','Trem-Bala '}\n",
        "\n",
        "\n",
        "filmes.add(\"Alerta Máximo ','Tár','Trem-Bala\")\n",
        "\n",
        "print(filmes)\n"
      ],
      "metadata": {
        "colab": {
          "base_uri": "https://localhost:8080/"
        },
        "id": "_NqaDt_4j4eR",
        "outputId": "9a560761-a57d-4edb-ea32-c8211a2da7f3"
      },
      "execution_count": 14,
      "outputs": [
        {
          "output_type": "stream",
          "name": "stdout",
          "text": [
            "{'Babilônia', 'The Whale', 'Tár', 'Avatar', 'Gato de Botas 2', 'Trem-Bala ', 'Os Fabelmans', \"Alerta Máximo ','Tár','Trem-Bala\", 'Alerta Máximo ', 'M3gan ', 'O Menu '}\n"
          ]
        }
      ]
    },
    {
      "cell_type": "markdown",
      "source": [],
      "metadata": {
        "id": "0J_2oSG5lFKx"
      }
    },
    {
      "cell_type": "code",
      "source": [
        "filmes = {'O Menu ', 'Avatar', 'Babilônia','M3gan ', 'Gato de Botas 2', 'The Whale','Os Fabelmans','Alerta Máximo ','Tár','Trem-Bala ','Avatar','Gato de Botas 2'}\n",
        "\n",
        "filmes.remove(\"Gato de Botas 2\")\n",
        "\n",
        "print(filmes)\n",
        "\n"
      ],
      "metadata": {
        "colab": {
          "base_uri": "https://localhost:8080/"
        },
        "id": "EWTfa3uglFxl",
        "outputId": "ca66eada-9059-4d6e-ad8d-6be68f4a6f31"
      },
      "execution_count": 26,
      "outputs": [
        {
          "output_type": "stream",
          "name": "stdout",
          "text": [
            "{'Babilônia', 'The Whale', 'Tár', 'Avatar', 'Trem-Bala ', 'Os Fabelmans', 'Alerta Máximo ', 'M3gan ', 'O Menu '}\n"
          ]
        }
      ]
    },
    {
      "cell_type": "markdown",
      "source": [],
      "metadata": {
        "id": "AjK3-F1NoWKC"
      }
    }
  ]
}