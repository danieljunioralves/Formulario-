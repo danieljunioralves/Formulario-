{
  "nbformat": 4,
  "nbformat_minor": 0,
  "metadata": {
    "colab": {
      "provenance": [],
      "authorship_tag": "ABX9TyMPx9AvB4pcUp0qj2oilOv1",
      "include_colab_link": true
    },
    "kernelspec": {
      "name": "python3",
      "display_name": "Python 3"
    },
    "language_info": {
      "name": "python"
    }
  },
  "cells": [
    {
      "cell_type": "markdown",
      "metadata": {
        "id": "view-in-github",
        "colab_type": "text"
      },
      "source": [
        "<a href=\"https://colab.research.google.com/github/danieljunioralves/Formulario-/blob/main/Untitled0.ipynb\" target=\"_parent\"><img src=\"https://colab.research.google.com/assets/colab-badge.svg\" alt=\"Open In Colab\"/></a>"
      ]
    },
    {
      "cell_type": "markdown",
      "source": [
        "# Exercicio 3"
      ],
      "metadata": {
        "id": "FubaJ7-QaWQb"
      }
    },
    {
      "cell_type": "code",
      "source": [
        "propaganda_online = [\n",
        " {'tempo_gasto_site': 68.95, 'idade': 35, 'renda_area': 61833.90,\n",
        " 'tempo_gasto_internet': 256.09, 'cidade': 'Wrightburgh',\n",
        " 'pais': 'Tunisia', 'clicou_no_ad': 0\n",
        " },\n",
        " {'tempo_gasto_site': 80.23, 'idade': 31, 'renda_area': 68441.85,\n",
        " 'tempo_gasto_internet': 193.77, 'cidade': 'West Jodi',\n",
        " 'pais': 'Nauru', 'clicou_no_ad': 0\n",
        " },\n",
        " {'tempo_gasto_site': 69.47, 'idade': 26, 'renda_area': 59785.94,\n",
        " 'tempo_gasto_internet': 236.50, 'cidade': 'Davidton',\n",
        " 'pais': 'San Marino', 'clicou_no_ad': 0\n",
        " },\n",
        " {'tempo_gasto_site': 68.37, 'idade': 35, 'renda_area': 73889.99,\n",
        " 'tempo_gasto_internet': 225.58, 'cidade': 'South Manuel',\n",
        " 'pais': 'Iceland', 'clicou_no_ad': 0\n",
        " },\n",
        " {'tempo_gasto_site': 88.91, 'idade': 33, 'renda_area': 53852.85,\n",
        " 'tempo_gasto_internet': 208.36, 'cidade': 'Brandonstad',\n",
        " 'pais': 'Myanmar', 'clicou_no_ad': 0\n",
        " },\n",
        " {'tempo_gasto_site': None, 'idade': 48, 'renda_area': 24593.33,\n",
        " 'tempo_gasto_internet': 131.76, 'cidade': 'Port Jefferybury',\n",
        " 'pais': 'Australia', 'clicou_no_ad': 1\n",
        " },\n",
        " {'tempo_gasto_site': 74.53, 'idade': 30, 'renda_area': 68862.00,\n",
        " 'tempo_gasto_internet': 221.51, 'cidade': 'West Colin',\n",
        " 'pais': 'Grenada'},\n",
        " {'tempo_gasto_site': 69.88, 'idade': 20, 'renda_area': 55642.32,\n",
        " 'tempo_gasto_internet': 183.82, 'cidade': 'Ramirezton',\n",
        " 'pais': 'Ghana', 'clicou_no_ad': 0\n",
        " }\n",
        "]\n",
        "for dado_de_usuario in propaganda_online:\n",
        " print(dado_de_usuario)"
      ],
      "metadata": {
        "colab": {
          "base_uri": "https://localhost:8080/"
        },
        "id": "gQiml1a1aXZV",
        "outputId": "16214571-4097-4588-9670-f9ee0a593c4e"
      },
      "execution_count": 17,
      "outputs": [
        {
          "output_type": "stream",
          "name": "stdout",
          "text": [
            "{'tempo_gasto_site': 68.95, 'idade': 35, 'renda_area': 61833.9, 'tempo_gasto_internet': 256.09, 'cidade': 'Wrightburgh', 'pais': 'Tunisia', 'clicou_no_ad': 0}\n",
            "{'tempo_gasto_site': 80.23, 'idade': 31, 'renda_area': 68441.85, 'tempo_gasto_internet': 193.77, 'cidade': 'West Jodi', 'pais': 'Nauru', 'clicou_no_ad': 0}\n",
            "{'tempo_gasto_site': 69.47, 'idade': 26, 'renda_area': 59785.94, 'tempo_gasto_internet': 236.5, 'cidade': 'Davidton', 'pais': 'San Marino', 'clicou_no_ad': 0}\n",
            "{'tempo_gasto_site': 68.37, 'idade': 35, 'renda_area': 73889.99, 'tempo_gasto_internet': 225.58, 'cidade': 'South Manuel', 'pais': 'Iceland', 'clicou_no_ad': 0}\n",
            "{'tempo_gasto_site': 88.91, 'idade': 33, 'renda_area': 53852.85, 'tempo_gasto_internet': 208.36, 'cidade': 'Brandonstad', 'pais': 'Myanmar', 'clicou_no_ad': 0}\n",
            "{'tempo_gasto_site': None, 'idade': 48, 'renda_area': 24593.33, 'tempo_gasto_internet': 131.76, 'cidade': 'Port Jefferybury', 'pais': 'Australia', 'clicou_no_ad': 1}\n",
            "{'tempo_gasto_site': 74.53, 'idade': 30, 'renda_area': 68862.0, 'tempo_gasto_internet': 221.51, 'cidade': 'West Colin', 'pais': 'Grenada'}\n",
            "{'tempo_gasto_site': 69.88, 'idade': 20, 'renda_area': 55642.32, 'tempo_gasto_internet': 183.82, 'cidade': 'Ramirezton', 'pais': 'Ghana', 'clicou_no_ad': 0}\n"
          ]
        }
      ]
    },
    {
      "cell_type": "markdown",
      "source": [
        "1.1. Crie uma lista chamada paises com o pais dos usuários com mais de 30 anos"
      ],
      "metadata": {
        "id": "6iV6bLtfciht"
      }
    },
    {
      "cell_type": "code",
      "source": [
        "paises = []\n",
        "for dado_de_usuario in propaganda_online:\n",
        "\n",
        "    if dado_de_usuario ['idade']>30:\n",
        "       paises.append(dado_de_usuario['pais'])\n",
        "       print(paises)\n"
      ],
      "metadata": {
        "id": "TUlYtP66cjY2",
        "colab": {
          "base_uri": "https://localhost:8080/"
        },
        "outputId": "60d4494f-6802-4905-9098-30f303ec4655"
      },
      "execution_count": 16,
      "outputs": [
        {
          "output_type": "stream",
          "name": "stdout",
          "text": [
            "['Tunisia']\n",
            "['Tunisia', 'Nauru']\n",
            "['Tunisia', 'Nauru', 'Iceland']\n",
            "['Tunisia', 'Nauru', 'Iceland', 'Myanmar']\n",
            "['Tunisia', 'Nauru', 'Iceland', 'Myanmar', 'Australia']\n"
          ]
        }
      ]
    },
    {
      "cell_type": "markdown",
      "source": [
        "1.2. Crie uma lista chamada leads com a renda dos usuários que clicaram na propaganda.\n"
      ],
      "metadata": {
        "id": "xjAIETSnew3i"
      }
    },
    {
      "cell_type": "code",
      "source": [
        "leads = []\n",
        "for dado_de_usuario in propaganda_online:\n",
        "  try:\n",
        "    if (dado_de_usuario['clicou_no_ad']) > 0:\n",
        "      leads.append(dado_de_usuario['renda_area'])\n",
        "  except KeyError:\n",
        "    print('Erro: A cidade de Port Jefferybury de Weste colin não indica seu indice de acesso de propaganda.')\n",
        "    print(leads)"
      ],
      "metadata": {
        "colab": {
          "base_uri": "https://localhost:8080/"
        },
        "id": "W2vGyrmlexW2",
        "outputId": "9c2c597f-789f-4bcb-8822-be5e3478b834"
      },
      "execution_count": 35,
      "outputs": [
        {
          "output_type": "stream",
          "name": "stdout",
          "text": [
            "Erro: A cidade de Port Jefferybury de Weste colin não indica seu indice de acesso de propaganda.\n",
            "[24593.33]\n"
          ]
        }
      ]
    },
    {
      "cell_type": "markdown",
      "source": [
        "1.3 Crie uma lista chamada cidades com a cidade dos usuários que passaram mais de 70\n",
        "segundos no site."
      ],
      "metadata": {
        "id": "FSNrmJql45Ug"
      }
    },
    {
      "cell_type": "code",
      "source": [
        "cidades = []\n",
        "for dado_de_usuario in propaganda_online:\n",
        "  try:\n",
        "    if(dado_de_usuario['tempo_gasto_site']) > 70:\n",
        "      cidades.append(dado_de_usuario['cidade'])\n",
        "  except Exception:\n",
        "    print('Error para a cidade de Port Jefferybury, esperava-se um valor numerico')\n",
        "    print(Exception)\n",
        "print(cidades)"
      ],
      "metadata": {
        "colab": {
          "base_uri": "https://localhost:8080/"
        },
        "id": "YnHlOaT8gAOp",
        "outputId": "a2f15e40-ce90-4b53-f59f-3f9b2aa0b074"
      },
      "execution_count": 38,
      "outputs": [
        {
          "output_type": "stream",
          "name": "stdout",
          "text": [
            "Error para a cidade de Port Jefferybury, esperava-se um valor numerico\n",
            "<class 'Exception'>\n",
            "['West Jodi', 'Brandonstad', 'West Colin']\n"
          ]
        }
      ]
    }
  ]
}