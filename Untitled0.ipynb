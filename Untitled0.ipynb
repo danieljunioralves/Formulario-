{
  "nbformat": 4,
  "nbformat_minor": 0,
  "metadata": {
    "colab": {
      "provenance": [],
      "authorship_tag": "ABX9TyPNBeySNv+sszHj1Tjv4N5M",
      "include_colab_link": true
    },
    "kernelspec": {
      "name": "python3",
      "display_name": "Python 3"
    },
    "language_info": {
      "name": "python"
    }
  },
  "cells": [
    {
      "cell_type": "markdown",
      "metadata": {
        "id": "view-in-github",
        "colab_type": "text"
      },
      "source": [
        "<a href=\"https://colab.research.google.com/github/danieljunioralves/Formulario-/blob/main/Untitled0.ipynb\" target=\"_parent\"><img src=\"https://colab.research.google.com/assets/colab-badge.svg\" alt=\"Open In Colab\"/></a>"
      ]
    },
    {
      "cell_type": "code",
      "source": [],
      "metadata": {
        "id": "ZnWJX6Y5Nv7t"
      },
      "execution_count": null,
      "outputs": []
    },
    {
      "cell_type": "markdown",
      "source": [
        "1.lista"
      ],
      "metadata": {
        "id": "4rKeJmz_OqQX"
      }
    },
    {
      "cell_type": "code",
      "source": [
        "filmes =[...]\n",
        "print = (\" Pálido Olho Azul,O Menu,Avatar: O Caminho da Água ,\tM3gan ,Glass Onion: Um Mistério Knives Out,Os Banshees de Inisherin ,Gato de Botas 2: O Último Pedido,\tTudo em Todo Lugar ao Mesmo Tempo,\tBabilônia,\tOs Fabelmans\")"
      ],
      "metadata": {
        "id": "M5Fw1QO_Otpk"
      },
      "execution_count": 3,
      "outputs": []
    }
  ]
}