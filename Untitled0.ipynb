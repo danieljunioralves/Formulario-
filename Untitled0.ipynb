{
  "nbformat": 4,
  "nbformat_minor": 0,
  "metadata": {
    "colab": {
      "provenance": [],
      "authorship_tag": "ABX9TyMj/aUGPn0wzOXmIx+p/kii",
      "include_colab_link": true
    },
    "kernelspec": {
      "name": "python3",
      "display_name": "Python 3"
    },
    "language_info": {
      "name": "python"
    }
  },
  "cells": [
    {
      "cell_type": "markdown",
      "metadata": {
        "id": "view-in-github",
        "colab_type": "text"
      },
      "source": [
        "<a href=\"https://colab.research.google.com/github/danieljunioralves/Formulario-/blob/main/Untitled0.ipynb\" target=\"_parent\"><img src=\"https://colab.research.google.com/assets/colab-badge.svg\" alt=\"Open In Colab\"/></a>"
      ]
    },
    {
      "cell_type": "markdown",
      "source": [
        "1.lista"
      ],
      "metadata": {
        "id": "4rKeJmz_OqQX"
      }
    },
    {
      "cell_type": "markdown",
      "source": [],
      "metadata": {
        "id": "pUSiouQnlpCF"
      }
    },
    {
      "cell_type": "code",
      "source": [
        "filmes = list(('O Menu ', 'Avatar', 'Babilônia','M3gan ', 'Gato de Botas 2', 'The Whale','Os Fabelmans','Alerta Máximo ','Tár','Trem-Bala '))\n",
        "print(filmes)"
      ],
      "metadata": {
        "id": "46Cw5XVwhUT1",
        "colab": {
          "base_uri": "https://localhost:8080/"
        },
        "outputId": "e69c2d17-e80c-4203-8e5d-46d9b3d0337b"
      },
      "execution_count": null,
      "outputs": [
        {
          "output_type": "stream",
          "name": "stdout",
          "text": [
            "['O Menu ', 'Avatar', 'Babilônia', 'M3gan ', 'Gato de Botas 2', 'The Whale', 'Os Fabelmans', 'Alerta Máximo ', 'Tár', 'Trem-Bala ']\n"
          ]
        }
      ]
    },
    {
      "cell_type": "markdown",
      "source": [],
      "metadata": {
        "id": "Xx5ODb-DlraZ"
      }
    },
    {
      "cell_type": "code",
      "source": [
        "filmes = ['O Menu ', 'Avatar', 'Babilônia','M3gan ', 'Gato de Botas 2', 'The Whale','Os Fabelmans','Alerta Máximo ','Tár','Trem-Bala ']\n",
        "\n",
        "filmes.pop(1)\n",
        "\n",
        "print(filmes)\n"
      ],
      "metadata": {
        "colab": {
          "base_uri": "https://localhost:8080/"
        },
        "id": "wKhFtMmkhWi6",
        "outputId": "72a1c27f-e144-47ae-d0d0-6ceec66a43ac"
      },
      "execution_count": null,
      "outputs": [
        {
          "output_type": "stream",
          "name": "stdout",
          "text": [
            "['O Menu ', 'Babilônia', 'M3gan ', 'Gato de Botas 2', 'The Whale', 'Os Fabelmans', 'Alerta Máximo ', 'Tár', 'Trem-Bala ']\n"
          ]
        }
      ]
    },
    {
      "cell_type": "markdown",
      "source": [],
      "metadata": {
        "id": "BbNvIcdUjR7z"
      }
    },
    {
      "cell_type": "code",
      "source": [
        "filmes = ['O Menu ', 'Avatar', 'Babilônia','M3gan ', 'Gato de Botas 2', 'The Whale','Os Fabelmans','Alerta Máximo ','Tár','Trem-Bala ']\n",
        "\n",
        "filmes.insert(1, \"Pânico VI\")\n",
        "\n",
        "print(filmes)\n",
        "\n"
      ],
      "metadata": {
        "colab": {
          "base_uri": "https://localhost:8080/"
        },
        "id": "52eUogJdjUqn",
        "outputId": "3fb4abf3-3f05-412a-a033-e8a0f227da88"
      },
      "execution_count": null,
      "outputs": [
        {
          "output_type": "stream",
          "name": "stdout",
          "text": [
            "['O Menu ', 'Pânico VI', 'Avatar', 'Babilônia', 'M3gan ', 'Gato de Botas 2', 'The Whale', 'Os Fabelmans', 'Alerta Máximo ', 'Tár', 'Trem-Bala ']\n"
          ]
        }
      ]
    },
    {
      "cell_type": "markdown",
      "source": [],
      "metadata": {
        "id": "3K84FiEZhjtD"
      }
    },
    {
      "cell_type": "code",
      "source": [
        "filmes = {'O Menu ', 'Avatar', 'Babilônia','M3gan ', 'Gato de Botas 2', 'The Whale','Os Fabelmans','Alerta Máximo ','Tár','Trem-Bala '}\n",
        "\n",
        "\n",
        "filmes.add(\"Alerta Máximo ','Tár','Trem-Bala\")\n",
        "\n",
        "print(filmes)\n"
      ],
      "metadata": {
        "colab": {
          "base_uri": "https://localhost:8080/"
        },
        "id": "_NqaDt_4j4eR",
        "outputId": "9a560761-a57d-4edb-ea32-c8211a2da7f3"
      },
      "execution_count": null,
      "outputs": [
        {
          "output_type": "stream",
          "name": "stdout",
          "text": [
            "{'Babilônia', 'The Whale', 'Tár', 'Avatar', 'Gato de Botas 2', 'Trem-Bala ', 'Os Fabelmans', \"Alerta Máximo ','Tár','Trem-Bala\", 'Alerta Máximo ', 'M3gan ', 'O Menu '}\n"
          ]
        }
      ]
    },
    {
      "cell_type": "markdown",
      "source": [],
      "metadata": {
        "id": "0J_2oSG5lFKx"
      }
    },
    {
      "cell_type": "code",
      "source": [
        "filmes = {'O Menu ', 'Avatar', 'Babilônia','M3gan ', 'Gato de Botas 2', 'The Whale','Os Fabelmans','Alerta Máximo ','Tár','Trem-Bala ','Avatar','Gato de Botas 2'}\n",
        "\n",
        "filmes.remove(\"Gato de Botas 2\")\n",
        "\n",
        "print(filmes)\n",
        "\n"
      ],
      "metadata": {
        "colab": {
          "base_uri": "https://localhost:8080/"
        },
        "id": "EWTfa3uglFxl",
        "outputId": "ca66eada-9059-4d6e-ad8d-6be68f4a6f31"
      },
      "execution_count": null,
      "outputs": [
        {
          "output_type": "stream",
          "name": "stdout",
          "text": [
            "{'Babilônia', 'The Whale', 'Tár', 'Avatar', 'Trem-Bala ', 'Os Fabelmans', 'Alerta Máximo ', 'M3gan ', 'O Menu '}\n"
          ]
        }
      ]
    },
    {
      "cell_type": "markdown",
      "source": [],
      "metadata": {
        "id": "AjK3-F1NoWKC"
      }
    },
    {
      "cell_type": "code",
      "source": [
        "filmes = {'nome':'o menu','ano':'2022','sinopse':'Um jovem casal viaja para uma ilha remota para comer em um restaurante',\n",
        "          'nome2':'avatar','ano':'2022','sinopse':'Jake Sully vive com sua nova',\n",
        "          'nome3':'babilonia','ano':'2022','sinopse':'Um conto de ambições exageradas e excessos escandalosos',\n",
        "          'nome4':'m3gan','ano':'2022','sinopse':'Uma engenheira de robótica de uma empresa de brinquedos constrói uma boneca realista que começa a ganhar vida própria',\n",
        "          'nome5':'gato de bota','ano':'2022','sinopse':'O Gato de Botas descobre que sua paixão pela aventura cobrou seu preço',\n",
        "          'nome6':'The Whale','ano':'2022','sinopse':'Um professor de inglês recluso que vive com obesidade severa ',\n",
        "          'nome7':'Os Fabelmans','ano':'2022','sinopse':'Crescendo no Arizona da era pós-Segunda Guerra Mundial',\n",
        "          'nome8':'Alerta Máximo','ano':'2023','sinopse':'Um piloto se vê preso em uma zona de guerra após ser forçado a pousar seu avião comercial durante uma terrível tempestade',\n",
        "          'nome9':'Tár','ano':'2022','sinopse':'Situado no mundo internacional da música clássica ocidental', \n",
        "          'nome10':'Trem-Bala','ano':'2022','sinopse':'Cinco assassinos a bordo de um trem-bala em movimento descobrem que suas missões têm algo em comum',}\n",
        "print(filmes)\n",
        "\n"
      ],
      "metadata": {
        "id": "svTqicFA2mJD",
        "colab": {
          "base_uri": "https://localhost:8080/"
        },
        "outputId": "2c409950-fd4a-448f-e083-dfb7b49f19cf"
      },
      "execution_count": 33,
      "outputs": [
        {
          "output_type": "stream",
          "name": "stdout",
          "text": [
            "{'nome': 'o menu', 'ano': '2022', 'sinopse': 'Cinco assassinos a bordo de um trem-bala em movimento descobrem que suas missões têm algo em comum', 'nome2': 'avatar', 'nome3': 'babilonia', 'nome4': 'm3gan', 'nome5': 'gato de bota', 'nome6': 'The Whale', 'nome7': 'Os Fabelmans', 'nome8': 'Alerta Máximo', 'nome9': 'Tár', 'nome10': 'Trem-Bala'}\n"
          ]
        }
      ]
    }
  ]
}