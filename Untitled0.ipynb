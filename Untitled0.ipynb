{
  "nbformat": 4,
  "nbformat_minor": 0,
  "metadata": {
    "colab": {
      "provenance": [],
      "authorship_tag": "ABX9TyNABUoFI9yxaVHCa8MNalzX",
      "include_colab_link": true
    },
    "kernelspec": {
      "name": "python3",
      "display_name": "Python 3"
    },
    "language_info": {
      "name": "python"
    }
  },
  "cells": [
    {
      "cell_type": "markdown",
      "metadata": {
        "id": "view-in-github",
        "colab_type": "text"
      },
      "source": [
        "<a href=\"https://colab.research.google.com/github/danieljunioralves/Formulario-/blob/main/Untitled0.ipynb\" target=\"_parent\"><img src=\"https://colab.research.google.com/assets/colab-badge.svg\" alt=\"Open In Colab\"/></a>"
      ]
    },
    {
      "cell_type": "markdown",
      "source": [
        "ticket médio\n",
        "19/01\n"
      ],
      "metadata": {
        "id": "IJnADNgyjAqO"
      }
    },
    {
      "cell_type": "code",
      "source": [
        "svv_19 = 3\n",
        "sqv_19 =320.52  \n",
        "tkt_19 = svv_19 * sqv_19\n",
        "print(tkt_19)"
      ],
      "metadata": {
        "id": "P3NIhLjRWgoj",
        "colab": {
          "base_uri": "https://localhost:8080/"
        },
        "outputId": "20af62cd-d296-4f6d-f5d5-468484d5b5e9"
      },
      "execution_count": 10,
      "outputs": [
        {
          "output_type": "stream",
          "name": "stdout",
          "text": [
            "961.56\n"
          ]
        }
      ]
    },
    {
      "cell_type": "markdown",
      "source": [
        "ticket médio 20/01\n",
        "\n"
      ],
      "metadata": {
        "id": "REhmS8gKmwjt"
      }
    },
    {
      "cell_type": "code",
      "source": [
        "svv_20 = 834.47\n",
        "sqv_20 =119.21\n",
        "tkt_20 = svv_20 /sqv_20\n",
        "print(tkt_20)"
      ],
      "metadata": {
        "colab": {
          "base_uri": "https://localhost:8080/"
        },
        "id": "2RdP8kuBlBHM",
        "outputId": "632b333e-57ce-4972-91e8-4a5ce48bd5a4"
      },
      "execution_count": 8,
      "outputs": [
        {
          "output_type": "stream",
          "name": "stdout",
          "text": [
            "7.000000000000001\n"
          ]
        }
      ]
    },
    {
      "cell_type": "code",
      "source": [],
      "metadata": {
        "id": "L8eo6vVPmVMu"
      },
      "execution_count": null,
      "outputs": []
    },
    {
      "cell_type": "markdown",
      "source": [
        "ticket médio 23/01"
      ],
      "metadata": {
        "id": "uX0bo7bgnLDz"
      }
    },
    {
      "cell_type": "code",
      "source": [
        "svv_23 =15378.12\n",
        "sqv_23 = 5\n",
        "tkt_23 =svv_23 / sqv_23\n",
        "print(tkt_23)\n"
      ],
      "metadata": {
        "colab": {
          "base_uri": "https://localhost:8080/"
        },
        "id": "D3HVXuNwnRRL",
        "outputId": "af7c014c-6c3d-48d1-9650-16bfca2e4665"
      },
      "execution_count": 9,
      "outputs": [
        {
          "output_type": "stream",
          "name": "stdout",
          "text": [
            "3075.6240000000003\n"
          ]
        }
      ]
    }
  ]
}