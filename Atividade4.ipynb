{
  "nbformat": 4,
  "nbformat_minor": 0,
  "metadata": {
    "colab": {
      "provenance": [],
      "mount_file_id": "1Yrv4F6dLHzN15dutIeOemigZ0ThCSfO1",
      "authorship_tag": "ABX9TyN0ONdlO8yI3khEIWzG3Y8T",
      "include_colab_link": true
    },
    "kernelspec": {
      "name": "python3",
      "display_name": "Python 3"
    },
    "language_info": {
      "name": "python"
    }
  },
  "cells": [
    {
      "cell_type": "markdown",
      "metadata": {
        "id": "view-in-github",
        "colab_type": "text"
      },
      "source": [
        "<a href=\"https://colab.research.google.com/github/danieljunioralves/Formulario-/blob/main/Atividade4.ipynb\" target=\"_parent\"><img src=\"https://colab.research.google.com/assets/colab-badge.svg\" alt=\"Open In Colab\"/></a>"
      ]
    },
    {
      "cell_type": "markdown",
      "source": [],
      "metadata": {
        "id": "XBXAB9kZYC_y"
      }
    },
    {
      "cell_type": "code",
      "source": [
        "%%writefile carros.csv\n",
        "id,valor_venda,valor_manutencao,portas,pessoas,porta_malas\n",
        "1,vhigh,med,2,2,small\n",
        "2,med,vhigh,2,2,small\n",
        "3,low,vhigh,2,2,small\n",
        "4,low,high,2,2,small\n",
        "5,low,high,2,2,small\n",
        "6,low,high,4,4,big\n",
        "7,low,high,4,4,big\n",
        "8,low,med,2,2,small\n",
        "9,low,med,2,2,small\n",
        "10,low,med,2,2,small\n",
        "11,low,med,4,4,big\n",
        "12,low,low,2,2,small\n",
        "13,low,low,4,4,small\n",
        "14,low,low,4,4,med\n",
        "Overwriting carros.csv"
      ],
      "metadata": {
        "id": "DZ0SDJKmYD4l",
        "colab": {
          "base_uri": "https://localhost:8080/"
        },
        "outputId": "c4c8cc5d-a1c2-4e86-92a2-42ce3b19c5df"
      },
      "execution_count": 1,
      "outputs": [
        {
          "output_type": "stream",
          "name": "stdout",
          "text": [
            "Writing carros.csv\n"
          ]
        }
      ]
    },
    {
      "cell_type": "markdown",
      "source": [],
      "metadata": {
        "id": "Z_jpJOm3dwvJ"
      }
    },
    {
      "cell_type": "code",
      "source": [
        "%%writefile musica.txt\n",
        "Roda Viva\n",
        "Chico Buarque\n",
        "Tem dias que a gente se sente\n",
        "Como quem partiu ou morreu\n",
        "A gente estancou de repente\n",
        "Ou foi o mundo então que cresceu\n",
        "A gente quer ter voz ativa\n",
        "No nosso destino mandar\n",
        "Mas eis que chega a roda viva\n",
        "E carrega o destino pra lá\n",
        "Roda mundo, roda-gigante\n",
        "Roda moinho, roda pião\n",
        "O tempo rodou num instante\n",
        "Nas voltas do meu coração\n",
        "A gente vai contra a corrente\n",
        "Até não poder resistir\n",
        "Na volta do barco é que sente\n",
        "O quanto deixou de cumprir\n",
        "Faz tempo que a gente cultiva\n",
        "A mais linda roseira que há\n",
        "Mas eis que chega a roda viva\n",
        "E carrega a roseira pra lá\n",
        "Roda mundo, roda-gigante\n",
        "Roda moinho, roda pião\n",
        "Overwriting musica.txt"
      ],
      "metadata": {
        "colab": {
          "base_uri": "https://localhost:8080/"
        },
        "id": "XrbPw0WAdy9J",
        "outputId": "0a72df87-e3bc-4ba3-952c-b5e9a6b11a93"
      },
      "execution_count": 2,
      "outputs": [
        {
          "output_type": "stream",
          "name": "stdout",
          "text": [
            "Writing musica.txt\n"
          ]
        }
      ]
    },
    {
      "cell_type": "markdown",
      "source": [],
      "metadata": {
        "id": "wv1P0kCLeFYH"
      }
    },
    {
      "cell_type": "code",
      "source": [
        "def extrai_coluna_csv(nome_arquivo: str, indice_coluna: int, tipo_dado: str): \n",
        "  coluna = []\n",
        "  with open (file=nome_arquivo,mode='r',encoding='uft8') as na:\n",
        "    line = na.readline()\n",
        "    line = na.readline()\n",
        "    while line:\n",
        "      line_sep =line.split(sep=',')\n",
        "      indice = line_sep[indice_coluna]\n",
        "      if tipo_dado == 'str':\n",
        "        str(indice)\n",
        "      elif tipo_dado == 'int':\n",
        "        int(indice)\n",
        "      elif tipo_dado == 'float':\n",
        "        float(indice)\n",
        "      else:\n",
        "        bool(indice)\n",
        "      coluna.append(indice)\n",
        "      line =na.readline()\n",
        "\n",
        "    return coluna\n",
        "      "
      ],
      "metadata": {
        "id": "GGamX6Mjfo5I"
      },
      "execution_count": 4,
      "outputs": []
    },
    {
      "cell_type": "code",
      "source": [
        "valor_venda = []\n",
        "with open(file='./carros.csv', mode='r', encoding='utf8') as arquivo:# lê o cabeçalho\n",
        "# lê a primeira linha\n",
        "while linha:\n"
      ],
      "metadata": {
        "id": "b9Ay0ljUeF4l"
      },
      "execution_count": null,
      "outputs": []
    }
  ]
}