{
  "nbformat": 4,
  "nbformat_minor": 0,
  "metadata": {
    "colab": {
      "provenance": [],
      "mount_file_id": "1Yrv4F6dLHzN15dutIeOemigZ0ThCSfO1",
      "authorship_tag": "ABX9TyOXA/ho/spdyU2AkAE+gTOk",
      "include_colab_link": true
    },
    "kernelspec": {
      "name": "python3",
      "display_name": "Python 3"
    },
    "language_info": {
      "name": "python"
    }
  },
  "cells": [
    {
      "cell_type": "markdown",
      "metadata": {
        "id": "view-in-github",
        "colab_type": "text"
      },
      "source": [
        "<a href=\"https://colab.research.google.com/github/danieljunioralves/Formulario-/blob/main/Atividade4.ipynb\" target=\"_parent\"><img src=\"https://colab.research.google.com/assets/colab-badge.svg\" alt=\"Open In Colab\"/></a>"
      ]
    },
    {
      "cell_type": "markdown",
      "source": [
        "# exercicio 1"
      ],
      "metadata": {
        "id": "XBXAB9kZYC_y"
      }
    },
    {
      "cell_type": "code",
      "source": [
        "%%writefile carros.csv\n",
        "id,valor_venda,valor_manutencao,portas,pessoas,porta_malas\n",
        "1,vhigh,med,2,2,small\n",
        "2,med,vhigh,2,2,small\n",
        "3,low,vhigh,2,2,small\n",
        "4,low,high,2,2,small\n",
        "5,low,high,2,2,small\n",
        "6,low,high,4,4,big\n",
        "7,low,high,4,4,big\n",
        "8,low,med,2,2,small\n",
        "9,low,med,2,2,small\n",
        "10,low,med,2,2,small\n",
        "11,low,med,4,4,big\n",
        "12,low,low,2,2,small\n",
        "13,low,low,4,4,small\n",
        "14,low,low,4,4,med\n",
        "Overwriting carros.csv"
      ],
      "metadata": {
        "id": "DZ0SDJKmYD4l",
        "colab": {
          "base_uri": "https://localhost:8080/"
        },
        "outputId": "c4c8cc5d-a1c2-4e86-92a2-42ce3b19c5df"
      },
      "execution_count": null,
      "outputs": [
        {
          "output_type": "stream",
          "name": "stdout",
          "text": [
            "Writing carros.csv\n"
          ]
        }
      ]
    },
    {
      "cell_type": "markdown",
      "source": [],
      "metadata": {
        "id": "Z_jpJOm3dwvJ"
      }
    },
    {
      "cell_type": "code",
      "source": [
        "%%writefile musica.txt\n",
        "Roda Viva\n",
        "Chico Buarque\n",
        "Tem dias que a gente se sente\n",
        "Como quem partiu ou morreu\n",
        "A gente estancou de repente\n",
        "Ou foi o mundo então que cresceu\n",
        "A gente quer ter voz ativa\n",
        "No nosso destino mandar\n",
        "Mas eis que chega a roda viva\n",
        "E carrega o destino pra lá\n",
        "Roda mundo, roda-gigante\n",
        "Roda moinho, roda pião\n",
        "O tempo rodou num instante\n",
        "Nas voltas do meu coração\n",
        "A gente vai contra a corrente\n",
        "Até não poder resistir\n",
        "Na volta do barco é que sente\n",
        "O quanto deixou de cumprir\n",
        "Faz tempo que a gente cultiva\n",
        "A mais linda roseira que há\n",
        "Mas eis que chega a roda viva\n",
        "E carrega a roseira pra lá\n",
        "Roda mundo, roda-gigante\n",
        "Roda moinho, roda pião\n",
        "Overwriting musica.txt"
      ],
      "metadata": {
        "colab": {
          "base_uri": "https://localhost:8080/"
        },
        "id": "XrbPw0WAdy9J",
        "outputId": "0a72df87-e3bc-4ba3-952c-b5e9a6b11a93"
      },
      "execution_count": null,
      "outputs": [
        {
          "output_type": "stream",
          "name": "stdout",
          "text": [
            "Writing musica.txt\n"
          ]
        }
      ]
    },
    {
      "cell_type": "markdown",
      "source": [],
      "metadata": {
        "id": "wv1P0kCLeFYH"
      }
    },
    {
      "cell_type": "code",
      "source": [
        "def extrai_coluna_csv(nome_arquivo: str, indice_coluna: int, tipo_dado: str): \n",
        "\n",
        " coluna = []\n",
        "\n",
        " with open (file=nome_arquivo,mode='r',encoding='uft8') as na:\n",
        "    line = na.readline()\n",
        "    line = na.readline()\n",
        "    while line:\n",
        "      line_sep =line.split(sep=',')\n",
        "      indice = line_sep[indice_coluna]\n",
        "      if tipo_dado == 'str':\n",
        "        str(indice)\n",
        "      elif tipo_dado == 'int':\n",
        "        int(indice)\n",
        "      elif tipo_dado == 'float':\n",
        "        float(indice)\n",
        "      else:\n",
        "        bool(indice)\n",
        "      coluna.append(indice)\n",
        "      line =na.readline()\n",
        "\n",
        "    return coluna\n",
        "      "
      ],
      "metadata": {
        "id": "GGamX6Mjfo5I"
      },
      "execution_count": null,
      "outputs": []
    },
    {
      "cell_type": "code",
      "source": [
        " valor_venda = []\n",
        " with open(file='./carros.csv', mode='r', encoding='utf8') as arquivo:\n",
        "    # lê o cabeçalho\n",
        "    # lê a primeira linha\n",
        "   while linha:\n",
        "      # quebra a string nas virgulas e salva os resultados em uma lista# seleciona o segundo elemento da lista\n",
        "      # salva o valor na lista de valor_venda\n",
        "      # lê uma nova linha, se a linha não existir, salva o valor Noneprint(valor_venda)\n",
        "    print (valor_venda) "
      ],
      "metadata": {
        "id": "VakdbiJNy_5q"
      },
      "execution_count": null,
      "outputs": []
    },
    {
      "cell_type": "markdown",
      "source": [],
      "metadata": {
        "id": "J64shUNmqWEx"
      }
    },
    {
      "cell_type": "code",
      "source": [
        "pessoas = extrai_coluna_csv(nome_arquivo='./carros.csv', indice_coluna=4,tipo_dado='int')  \n",
        "\n",
        "print(pessoas)"
      ],
      "metadata": {
        "id": "YCTYg-BTkjLH"
      },
      "execution_count": null,
      "outputs": []
    },
    {
      "cell_type": "code",
      "source": [
        "# extrair a coluna valor_venda\n",
        "valor_venda = extrai_coluna_csv(nome_arquivo='./carros.csv', indice_coluna=1, tipo_dado=\n",
        "print(valor_venda) # deve retornar ['vhigh', 'med', 'low', ...]"
      ],
      "metadata": {
        "id": "9IJMhvHi1Yxy"
      },
      "execution_count": null,
      "outputs": []
    },
    {
      "cell_type": "code",
      "source": [
        "# extrair a coluna pessoas\n",
        "pessoas = extrai_coluna_csv(nome_arquivo='./carros.csv', indice_coluna=4, tipo_dado='int'\n",
        "print(pessoas) # deve retornar [2, 2, 2, ...]"
      ],
      "metadata": {
        "id": "2iXyc7sc1h4Q"
      },
      "execution_count": null,
      "outputs": []
    },
    {
      "cell_type": "markdown",
      "source": [
        "# 2 função"
      ],
      "metadata": {
        "id": "-x1nDLv4wipw"
      }
    },
    {
      "cell_type": "code",
      "source": [
        "def Extrai_linha_txt(nome_arquivo:str,numero_linha:int):\n",
        "\n",
        " palavras_linha = []\n",
        "  \n",
        " with open(file=nome_arquivo, mode='r' ,encoding='utf8') as nat:\n",
        "   line = nat.readlines()[numero_linha -1]\n",
        "   line_sep = line.split(sep='')\n",
        "   palavras_linha.append(line_sep)\n",
        " return palavras_linha"
      ],
      "metadata": {
        "id": "8uZI8FXOrRfL"
      },
      "execution_count": 3,
      "outputs": []
    },
    {
      "cell_type": "markdown",
      "source": [],
      "metadata": {
        "id": "v28A-viQrQ_4"
      }
    },
    {
      "cell_type": "code",
      "source": [
        "def extrai_linha_txt(nome_arquivo: str, numero_linha: int):\n",
        " palavras_linha = []\n",
        "# leia o arquivo com o comando 'with' utilizando o parametro 'nome_arquivo'# extraia a linha do arquivo utilizando o parametro 'numero_linha'# quebre a linha em palavras com o comando split, note que o separador é um espaço ' 'return palavras_linha"
      ],
      "metadata": {
        "id": "Cj6qYCInwu-v"
      },
      "execution_count": 5,
      "outputs": []
    },
    {
      "cell_type": "markdown",
      "source": [
        "# testar função"
      ],
      "metadata": {
        "id": "-zkOAewDrKN9"
      }
    },
    {
      "cell_type": "code",
      "source": [
        "linha10 = extrai_linha_txt(nome_arquivo='./musica.txt', numero_linha=10)\n",
        "print(linha10) # deve retornar ['Mas', 'eis', 'que', 'chega', 'a', 'roda', 'viva']"
      ],
      "metadata": {
        "colab": {
          "base_uri": "https://localhost:8080/"
        },
        "id": "9eNA079arK4t",
        "outputId": "311aea7a-747b-4dab-b79f-2f9f03c480f0"
      },
      "execution_count": 6,
      "outputs": [
        {
          "output_type": "stream",
          "name": "stdout",
          "text": [
            "None\n"
          ]
        }
      ]
    }
  ]
}