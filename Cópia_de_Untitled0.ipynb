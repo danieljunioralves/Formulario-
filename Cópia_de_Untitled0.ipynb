{
  "nbformat": 4,
  "nbformat_minor": 0,
  "metadata": {
    "colab": {
      "provenance": [],
      "authorship_tag": "ABX9TyNKgkY02uBwAUuOSbVWbWMN",
      "include_colab_link": true
    },
    "kernelspec": {
      "name": "python3",
      "display_name": "Python 3"
    },
    "language_info": {
      "name": "python"
    }
  },
  "cells": [
    {
      "cell_type": "markdown",
      "metadata": {
        "id": "view-in-github",
        "colab_type": "text"
      },
      "source": [
        "<a href=\"https://colab.research.google.com/github/danieljunioralves/Formulario-/blob/main/C%C3%B3pia_de_Untitled0.ipynb\" target=\"_parent\"><img src=\"https://colab.research.google.com/assets/colab-badge.svg\" alt=\"Open In Colab\"/></a>"
      ]
    },
    {
      "cell_type": "markdown",
      "source": [
        "# Atividade 2"
      ],
      "metadata": {
        "id": "4rKeJmz_OqQX"
      }
    },
    {
      "cell_type": "markdown",
      "source": [
        "1.lista"
      ],
      "metadata": {
        "id": "pUSiouQnlpCF"
      }
    },
    {
      "cell_type": "code",
      "source": [
        "filmes = list(('O Menu ', 'Avatar', 'Babilônia','M3gan ', 'Gato de Botas 2', 'The Whale','Os Fabelmans','Alerta Máximo ','Tár','Trem-Bala '))\n",
        "print(filmes)"
      ],
      "metadata": {
        "id": "46Cw5XVwhUT1",
        "colab": {
          "base_uri": "https://localhost:8080/"
        },
        "outputId": "31809d4a-d2dc-4a92-e696-8fe373bd7ccd"
      },
      "execution_count": 2,
      "outputs": [
        {
          "output_type": "stream",
          "name": "stdout",
          "text": [
            "['O Menu ', 'Avatar', 'Babilônia', 'M3gan ', 'Gato de Botas 2', 'The Whale', 'Os Fabelmans', 'Alerta Máximo ', 'Tár', 'Trem-Bala ']\n"
          ]
        }
      ]
    },
    {
      "cell_type": "markdown",
      "source": [
        "Simule a movimentação do ranking. Utilize os métodos insert e pop para trocar\n",
        "a posição do primeiro e do segundo filme da lista. Imprima o resultado"
      ],
      "metadata": {
        "id": "Xx5ODb-DlraZ"
      }
    },
    {
      "cell_type": "code",
      "source": [
        "segundo_filmes = filmes.pop \n",
        "\n",
        "filmes.insert(1, segundo_filmes)\n",
        "\n",
        "print(filmes)\n"
      ],
      "metadata": {
        "colab": {
          "base_uri": "https://localhost:8080/"
        },
        "id": "wKhFtMmkhWi6",
        "outputId": "b3159b7b-1293-40f8-ad0e-9f8ced0ae293"
      },
      "execution_count": 5,
      "outputs": [
        {
          "output_type": "stream",
          "name": "stdout",
          "text": [
            "['O Menu ', <built-in method pop of list object at 0x7fe9f6d81e80>, 'Avatar', 'Babilônia', 'M3gan ', 'Gato de Botas 2', 'The Whale', 'Os Fabelmans', 'Alerta Máximo ', 'Tár', 'Trem-Bala ']\n"
          ]
        }
      ]
    },
    {
      "cell_type": "markdown",
      "source": [
        "2. Conjuntos\n"
      ],
      "metadata": {
        "id": "BbNvIcdUjR7z"
      }
    },
    {
      "cell_type": "markdown",
      "source": [
        "Aconteceu um erro no seu ranking. Simule a duplicação dos três últimos filmes da\n",
        "lista. Imprima o resultado."
      ],
      "metadata": {
        "id": "6z9lVSmXRnid"
      }
    },
    {
      "cell_type": "code",
      "source": [
        "filmes = ['O Menu ', 'Avatar2','Gato de Botas2', 'Babilônia','M3gan ','The Whale','Os Fabelmans','Alerta Máximo ','Tár','Trem-Bala ','Alerta Máximo ','Tár','Trem-Bala ']\n",
        "\n",
        "print(filmes)\n"
      ],
      "metadata": {
        "colab": {
          "base_uri": "https://localhost:8080/"
        },
        "id": "_NqaDt_4j4eR",
        "outputId": "5d0ee2a2-e9a6-48aa-b6a8-b3aa1b7f9766"
      },
      "execution_count": 80,
      "outputs": [
        {
          "output_type": "stream",
          "name": "stdout",
          "text": [
            "['O Menu ', 'Avatar2', 'Gato de Botas2', 'Babilônia', 'M3gan ', 'The Whale', 'Os Fabelmans', 'Alerta Máximo ', 'Tár', 'Trem-Bala ', 'Alerta Máximo ', 'Tár', 'Trem-Bala ']\n"
          ]
        }
      ]
    },
    {
      "cell_type": "markdown",
      "source": [
        "2.1"
      ],
      "metadata": {
        "id": "0J_2oSG5lFKx"
      }
    },
    {
      "cell_type": "code",
      "source": [
        "filmes_novos = list(set(filmes))\n",
        "\n",
        "print(filmes_novos)\n",
        "\n"
      ],
      "metadata": {
        "colab": {
          "base_uri": "https://localhost:8080/"
        },
        "id": "EWTfa3uglFxl",
        "outputId": "b511bd7a-ccb8-487e-f07c-905de586571a"
      },
      "execution_count": 81,
      "outputs": [
        {
          "output_type": "stream",
          "name": "stdout",
          "text": [
            "['Tár', 'Trem-Bala ', 'Babilônia', 'Os Fabelmans', 'The Whale', 'Gato de Botas2', 'Avatar2', 'Alerta Máximo ', 'O Menu ', 'M3gan ']\n"
          ]
        }
      ]
    },
    {
      "cell_type": "markdown",
      "source": [
        "3. Dicionários"
      ],
      "metadata": {
        "id": "AjK3-F1NoWKC"
      }
    },
    {
      "cell_type": "code",
      "source": [
        "filmes =[{'nome':'o menu','ano':'2022','sinopse':'Um jovem casal viaja para uma ilha remota para comer em um restaurante',},\n",
        "         {'nome':'Avatar2','ano':'2022','sinopse':'Jake Sully vive com sua nova',},\n",
        "         {'nome':'babilonia','ano':'2022','sinopse':'Um conto de ambições exageradas e excessos escandalosos',},\n",
        "         {'nome':'m3gan','ano':'2022','sinopse':'Uma engenheira de robótica de uma empresa de brinquedos constrói uma boneca realista que começa a ganhar vida própria',},\n",
        "         {'nome':'gato de bota','ano':'2022','sinopse':'O Gato de Botas descobre que sua paixão pela aventura cobrou seu preço',},\n",
        "         {'nome':'The Whale','ano':'2022','sinopse':'Um professor de inglês recluso que vive com obesidade severa ',},\n",
        "         {'nome':'Os Fabelmans','ano':'2022','sinopse':'Crescendo no Arizona da era pós-Segunda Guerra Mundial',},\n",
        "         {'nome':'Alerta Máximo','ano':'2023','sinopse':'Um piloto se vê preso em uma zona de guerra após ser forçado a pousar seu avião comercial durante uma terrível tempestade',},\n",
        "         {'nome':'Tár','ano':'2022','sinopse':'Situado no mundo internacional da música clássica ocidental',},\n",
        "         {'nome':'Trem-Bala','ano':'2022','sinopse':'Cinco assassinos a bordo de um trem-bala em movimento descobrem que suas missões têm algo em comum',},]\n",
        "print(filmes)\n",
        "\n",
        "segundo_filmes = filmes.pop (1)\n",
        "filmes.insert(0, segundo_filmes)\n",
        "print(filmes)\n",
        "\n",
        "nomes = []\n",
        "\n",
        "for filme in filmes:\n",
        "  nomes.append(filme['nome'])\n",
        "print(nomes)\n",
        "\n"
      ],
      "metadata": {
        "id": "svTqicFA2mJD",
        "colab": {
          "base_uri": "https://localhost:8080/"
        },
        "outputId": "ba93c32c-b571-450e-cb83-dee7897b4dbe"
      },
      "execution_count": 86,
      "outputs": [
        {
          "output_type": "stream",
          "name": "stdout",
          "text": [
            "[{'nome': 'o menu', 'ano': '2022', 'sinopse': 'Um jovem casal viaja para uma ilha remota para comer em um restaurante'}, {'nome': 'Avatar2', 'ano': '2022', 'sinopse': 'Jake Sully vive com sua nova'}, {'nome': 'babilonia', 'ano': '2022', 'sinopse': 'Um conto de ambições exageradas e excessos escandalosos'}, {'nome': 'm3gan', 'ano': '2022', 'sinopse': 'Uma engenheira de robótica de uma empresa de brinquedos constrói uma boneca realista que começa a ganhar vida própria'}, {'nome': 'gato de bota', 'ano': '2022', 'sinopse': 'O Gato de Botas descobre que sua paixão pela aventura cobrou seu preço'}, {'nome': 'The Whale', 'ano': '2022', 'sinopse': 'Um professor de inglês recluso que vive com obesidade severa '}, {'nome': 'Os Fabelmans', 'ano': '2022', 'sinopse': 'Crescendo no Arizona da era pós-Segunda Guerra Mundial'}, {'nome': 'Alerta Máximo', 'ano': '2023', 'sinopse': 'Um piloto se vê preso em uma zona de guerra após ser forçado a pousar seu avião comercial durante uma terrível tempestade'}, {'nome': 'Tár', 'ano': '2022', 'sinopse': 'Situado no mundo internacional da música clássica ocidental'}, {'nome': 'Trem-Bala', 'ano': '2022', 'sinopse': 'Cinco assassinos a bordo de um trem-bala em movimento descobrem que suas missões têm algo em comum'}]\n",
            "[{'nome': 'Avatar2', 'ano': '2022', 'sinopse': 'Jake Sully vive com sua nova'}, {'nome': 'o menu', 'ano': '2022', 'sinopse': 'Um jovem casal viaja para uma ilha remota para comer em um restaurante'}, {'nome': 'babilonia', 'ano': '2022', 'sinopse': 'Um conto de ambições exageradas e excessos escandalosos'}, {'nome': 'm3gan', 'ano': '2022', 'sinopse': 'Uma engenheira de robótica de uma empresa de brinquedos constrói uma boneca realista que começa a ganhar vida própria'}, {'nome': 'gato de bota', 'ano': '2022', 'sinopse': 'O Gato de Botas descobre que sua paixão pela aventura cobrou seu preço'}, {'nome': 'The Whale', 'ano': '2022', 'sinopse': 'Um professor de inglês recluso que vive com obesidade severa '}, {'nome': 'Os Fabelmans', 'ano': '2022', 'sinopse': 'Crescendo no Arizona da era pós-Segunda Guerra Mundial'}, {'nome': 'Alerta Máximo', 'ano': '2023', 'sinopse': 'Um piloto se vê preso em uma zona de guerra após ser forçado a pousar seu avião comercial durante uma terrível tempestade'}, {'nome': 'Tár', 'ano': '2022', 'sinopse': 'Situado no mundo internacional da música clássica ocidental'}, {'nome': 'Trem-Bala', 'ano': '2022', 'sinopse': 'Cinco assassinos a bordo de um trem-bala em movimento descobrem que suas missões têm algo em comum'}]\n",
            "['Avatar2', 'o menu', 'babilonia', 'm3gan', 'gato de bota', 'The Whale', 'Os Fabelmans', 'Alerta Máximo', 'Tár', 'Trem-Bala']\n"
          ]
        }
      ]
    }
  ]
}