{
  "nbformat": 4,
  "nbformat_minor": 0,
  "metadata": {
    "colab": {
      "provenance": [],
      "mount_file_id": "1ZugQf_4oyYLNekhAchWRDoy6Zubd6_8j",
      "authorship_tag": "ABX9TyMdWLu4I41A8CKN6Ba9s+MX",
      "include_colab_link": true
    },
    "kernelspec": {
      "name": "python3",
      "display_name": "Python 3"
    },
    "language_info": {
      "name": "python"
    }
  },
  "cells": [
    {
      "cell_type": "markdown",
      "metadata": {
        "id": "view-in-github",
        "colab_type": "text"
      },
      "source": [
        "<a href=\"https://colab.research.google.com/github/danieljunioralves/Formulario-/blob/main/C%C3%B3pia_de_Untitled0.ipynb\" target=\"_parent\"><img src=\"https://colab.research.google.com/assets/colab-badge.svg\" alt=\"Open In Colab\"/></a>"
      ]
    },
    {
      "cell_type": "markdown",
      "source": [
        "# exercicio 1"
      ],
      "metadata": {
        "id": "djLh78n8qzkY"
      }
    },
    {
      "cell_type": "code",
      "source": [
        "print('Olá Mundo')"
      ],
      "metadata": {
        "colab": {
          "base_uri": "https://localhost:8080/"
        },
        "id": "7oBKBqtUqqwc",
        "outputId": "d377bf62-960e-4651-bc50-f7f3d55fffc3"
      },
      "execution_count": null,
      "outputs": [
        {
          "output_type": "stream",
          "name": "stdout",
          "text": [
            "Olá Mundo\n"
          ]
        }
      ]
    },
    {
      "cell_type": "code",
      "source": [
        "import cv2\n",
        "from google.colab.patches import cv2_imshow"
      ],
      "metadata": {
        "id": "0f-pKt1W3hSK"
      },
      "execution_count": null,
      "outputs": []
    },
    {
      "cell_type": "markdown",
      "source": [
        "# exercicio 2"
      ],
      "metadata": {
        "id": "qja0c4N2rOUc"
      }
    },
    {
      "cell_type": "markdown",
      "source": [
        "\n",
        "Preencha as células de código para preencher os valores de (A), (B) e (C) na tabela de\n",
        "ticket médio abaixo:\n"
      ],
      "metadata": {
        "id": "IJnADNgyjAqO"
      }
    },
    {
      "cell_type": "markdown",
      "source": [
        "A"
      ],
      "metadata": {
        "id": "-NAkbaC_oJdD"
      }
    },
    {
      "cell_type": "code",
      "source": [
        "svv_19 = 3\n",
        "sqv_19 =320.52  \n",
        "tkt_19 = svv_19 * sqv_19\n",
        "print(tkt_19)"
      ],
      "metadata": {
        "id": "P3NIhLjRWgoj",
        "colab": {
          "base_uri": "https://localhost:8080/"
        },
        "outputId": "20af62cd-d296-4f6d-f5d5-468484d5b5e9"
      },
      "execution_count": null,
      "outputs": [
        {
          "output_type": "stream",
          "name": "stdout",
          "text": [
            "961.56\n"
          ]
        }
      ]
    },
    {
      "cell_type": "code",
      "source": [],
      "metadata": {
        "id": "Ip_-sLvQoKoq"
      },
      "execution_count": null,
      "outputs": []
    },
    {
      "cell_type": "markdown",
      "source": [
        "B\n",
        "\n"
      ],
      "metadata": {
        "id": "REhmS8gKmwjt"
      }
    },
    {
      "cell_type": "code",
      "source": [
        "svv_20 = 834.47\n",
        "sqv_20 =119.21\n",
        "tkt_20 = svv_20 /sqv_20\n",
        "print(tkt_20)"
      ],
      "metadata": {
        "colab": {
          "base_uri": "https://localhost:8080/"
        },
        "id": "2RdP8kuBlBHM",
        "outputId": "632b333e-57ce-4972-91e8-4a5ce48bd5a4"
      },
      "execution_count": null,
      "outputs": [
        {
          "output_type": "stream",
          "name": "stdout",
          "text": [
            "7.000000000000001\n"
          ]
        }
      ]
    },
    {
      "cell_type": "code",
      "source": [],
      "metadata": {
        "id": "L8eo6vVPmVMu"
      },
      "execution_count": null,
      "outputs": []
    },
    {
      "cell_type": "markdown",
      "source": [
        "C"
      ],
      "metadata": {
        "id": "uX0bo7bgnLDz"
      }
    },
    {
      "cell_type": "code",
      "source": [
        "svv_23 =15378.12\n",
        "sqv_23 = 5\n",
        "tkt_23 =svv_23 / sqv_23\n",
        "print(tkt_23)\n"
      ],
      "metadata": {
        "colab": {
          "base_uri": "https://localhost:8080/"
        },
        "id": "D3HVXuNwnRRL",
        "outputId": "af7c014c-6c3d-48d1-9650-16bfca2e4665"
      },
      "execution_count": null,
      "outputs": [
        {
          "output_type": "stream",
          "name": "stdout",
          "text": [
            "3075.6240000000003\n"
          ]
        }
      ]
    },
    {
      "cell_type": "markdown",
      "source": [
        "# exercicio 3\n",
        "Aplique três métodos distintos na string abaixo, você pode conferir alguns métodos neste"
      ],
      "metadata": {
        "id": "Mn5mw6ynrVTe"
      }
    },
    {
      "cell_type": "code",
      "source": [
        "cancao = 'Roda mundo, Roda gigante , Roda moinha , Roda pião'\n",
        "\n"
      ],
      "metadata": {
        "id": "RqnlwaK-rX_3"
      },
      "execution_count": null,
      "outputs": []
    },
    {
      "cell_type": "code",
      "source": [
        "print(cancao.upper())"
      ],
      "metadata": {
        "colab": {
          "base_uri": "https://localhost:8080/"
        },
        "id": "mk74P-HHrqJT",
        "outputId": "a62bf828-872f-4589-8630-4a01131b7682"
      },
      "execution_count": null,
      "outputs": [
        {
          "output_type": "stream",
          "name": "stdout",
          "text": [
            "RODA MUNDO, RODA GIGANTE , RODA MOINHA , RODA PIÃO\n"
          ]
        }
      ]
    },
    {
      "cell_type": "code",
      "source": [
        "print(cancao.find('pião'))"
      ],
      "metadata": {
        "colab": {
          "base_uri": "https://localhost:8080/"
        },
        "id": "I5TXo3D3qw9I",
        "outputId": "c082928b-2e13-43c4-e1de-74738e3392fe"
      },
      "execution_count": null,
      "outputs": [
        {
          "output_type": "stream",
          "name": "stdout",
          "text": [
            "46\n"
          ]
        }
      ]
    },
    {
      "cell_type": "code",
      "source": [
        "print(cancao.replace('roda','rd'))"
      ],
      "metadata": {
        "colab": {
          "base_uri": "https://localhost:8080/"
        },
        "id": "bGg-iZZ4rS0Q",
        "outputId": "b29cf91d-4fc5-48b5-e7a4-56464f277faf"
      },
      "execution_count": null,
      "outputs": [
        {
          "output_type": "stream",
          "name": "stdout",
          "text": [
            "Roda mundo, Roda gigante , Roda moinha , Roda pião\n"
          ]
        }
      ]
    },
    {
      "cell_type": "markdown",
      "source": [
        "Extraia da string abaixo o valor da taxa selic na variável selic e o valor do ano na\n",
        "variavel ano . Imprima os valores na tela"
      ],
      "metadata": {
        "id": "VV4duwaCsG-b"
      }
    },
    {
      "cell_type": "code",
      "source": [
        "noticia = 'selic vai a 2,75% e supera a expectativa; é a primeira alta em 6 anos'"
      ],
      "metadata": {
        "id": "NiRsq2sxsH4a"
      },
      "execution_count": null,
      "outputs": []
    },
    {
      "cell_type": "code",
      "source": [
        "posicao_valor_selic = noticia.find(\"2\")\n",
        "selic = noticia [posicao_valor_selic:posicao_valor_selic+5]\n",
        "print(selic)"
      ],
      "metadata": {
        "colab": {
          "base_uri": "https://localhost:8080/"
        },
        "id": "lrgr0wmTtEbl",
        "outputId": "1d1f5a8a-7fe2-49e4-893f-f20c0fbab28b"
      },
      "execution_count": null,
      "outputs": [
        {
          "output_type": "stream",
          "name": "stdout",
          "text": [
            "2,75%\n"
          ]
        }
      ]
    },
    {
      "cell_type": "code",
      "source": [
        "posicao_valor_ano = noticia.find(\"anos\")\n",
        "ano = noticia [posicao_valor_ano-3:posicao_valor_ano]\n",
        "print(ano)"
      ],
      "metadata": {
        "colab": {
          "base_uri": "https://localhost:8080/"
        },
        "id": "Pf1XpEoawYsh",
        "outputId": "3301ba67-6a47-4f95-b432-001fc1001964"
      },
      "execution_count": null,
      "outputs": [
        {
          "output_type": "stream",
          "name": "stdout",
          "text": [
            " 6 \n"
          ]
        }
      ]
    },
    {
      "cell_type": "markdown",
      "source": [
        "# Exercicio 4\n",
        "Utilize a tabela da verdade para responder: qual o valor da variável x?"
      ],
      "metadata": {
        "id": "jlBC55lpyUtE"
      }
    },
    {
      "cell_type": "code",
      "source": [
        "a = False\n",
        "b = True\n",
        "\n",
        "x = not a & b\n",
        "print(x)"
      ],
      "metadata": {
        "id": "kJ0YzRq0sPeA",
        "colab": {
          "base_uri": "https://localhost:8080/"
        },
        "outputId": "b25fafcb-0b96-4a27-94c3-53578522bbaf"
      },
      "execution_count": null,
      "outputs": [
        {
          "output_type": "stream",
          "name": "stdout",
          "text": [
            "True\n"
          ]
        }
      ]
    },
    {
      "cell_type": "code",
      "source": [
        "print (True & True)\n",
        "print (True & False)\n",
        "print (False & False)\n",
        "print (False & True)"
      ],
      "metadata": {
        "colab": {
          "base_uri": "https://localhost:8080/"
        },
        "id": "d3zgPT1QzdgL",
        "outputId": "6d65131c-227c-497f-b63f-d38281b2ec1b"
      },
      "execution_count": null,
      "outputs": [
        {
          "output_type": "stream",
          "name": "stdout",
          "text": [
            "True\n",
            "False\n",
            "False\n",
            "False\n"
          ]
        }
      ]
    },
    {
      "cell_type": "code",
      "source": [
        "print (a & b)"
      ],
      "metadata": {
        "colab": {
          "base_uri": "https://localhost:8080/"
        },
        "id": "qPpZY2Uj0XeX",
        "outputId": "d883bfa6-1bfb-41ce-d13e-b25fba4220c5"
      },
      "execution_count": null,
      "outputs": [
        {
          "output_type": "stream",
          "name": "stdout",
          "text": [
            "False\n"
          ]
        }
      ]
    },
    {
      "cell_type": "code",
      "source": [
        "print(not a & b)"
      ],
      "metadata": {
        "colab": {
          "base_uri": "https://localhost:8080/"
        },
        "id": "e3zS6juC0qKC",
        "outputId": "cc1776e2-73c5-439e-a94a-cb5a477dc651"
      },
      "execution_count": null,
      "outputs": [
        {
          "output_type": "stream",
          "name": "stdout",
          "text": [
            "True\n"
          ]
        }
      ]
    }
  ]
}